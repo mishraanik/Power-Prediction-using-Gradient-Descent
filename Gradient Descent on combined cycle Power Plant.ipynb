{
 "cells": [
  {
   "cell_type": "code",
   "execution_count": 2,
   "id": "38a1de7d",
   "metadata": {},
   "outputs": [],
   "source": [
    "# partial derivative of cost function with respect to jth m\n",
    "\n",
    "def derivative_cost_wrt_mj(xtrain,ytrain,j,arrM,b):\n",
    "    ans=0\n",
    "    k=len(ytrain)\n",
    "    n=len(xtrain[0])\n",
    "    for i in range(k):\n",
    "        temp=0\n",
    "        for p in range(n):\n",
    "            temp+=(arrM[p]*xtrain[i][p])\n",
    "        temp+=b\n",
    "        ans+=2*(ytrain[i]-temp)*(-xtrain[i][j])\n",
    "    return ans/k    "
   ]
  },
  {
   "cell_type": "code",
   "execution_count": 3,
   "id": "8a4de917",
   "metadata": {},
   "outputs": [],
   "source": [
    "def derivative_cost_wrt_b(xtrain,ytrain,arrM,b):\n",
    "    ans=0\n",
    "    k=len(ytrain)\n",
    "    n=len(xtrain[0])\n",
    "    for i in range(k):\n",
    "        temp=0\n",
    "        for p in range(n):\n",
    "            temp+=(arrM[p]*xtrain[i][p])\n",
    "        temp+=b\n",
    "        ans+=2*(ytrain[i]-temp)*(-1)\n",
    "    return ans/k       "
   ]
  },
  {
   "cell_type": "code",
   "execution_count": 4,
   "id": "e8680252",
   "metadata": {},
   "outputs": [],
   "source": [
    "def predict(x,arrM,b):\n",
    "    y=[]\n",
    "    k=len(x)\n",
    "    n=len(x[0])\n",
    "    for i in range(k):\n",
    "        ans=0\n",
    "        for j in range(n):\n",
    "            ans+=arrM[j]*x[i][j]\n",
    "        ans+=b\n",
    "        y.append(ans)\n",
    "    return y"
   ]
  },
  {
   "cell_type": "code",
   "execution_count": null,
   "id": "a61b3cb9",
   "metadata": {},
   "outputs": [],
   "source": [
    "import pandas as pd\n",
    "import numpy as np\n",
    "\n",
    "# loading the training data through numpy\n",
    "\n",
    "data=np.loadtxt(\"combined_cycle_powerPlant_train.csv\",delimiter=\",\")    \n",
    "k=len(data)          # no. of rows\n",
    "n=len(data[0])       # no. of columns\n",
    "xtrain=data[:,0:n-1]\n",
    "ytrain=data[:,n-1]\n",
    "n=n-1\n"
   ]
  },
  {
   "cell_type": "code",
   "execution_count": null,
   "id": "49e3c86b",
   "metadata": {},
   "outputs": [],
   "source": [
    "# FEATURE SCALING\n",
    "\n",
    "from sklearn import preprocessing\n",
    "scaler=preprocessing.StandardScaler()\n",
    "scaler.fit(xtrain)\n",
    "xtrain=scaler.transform(xtrain)\n"
   ]
  },
  {
   "cell_type": "code",
   "execution_count": null,
   "id": "81294d9d",
   "metadata": {},
   "outputs": [],
   "source": [
    "# MAIN FUNCTIONING PART\n",
    "\n",
    "alpha=float(input(\"Enter Learning Rate\\n\")) # 0.001\n",
    "\n",
    "iterations=int(input(\"Enter Number of iterations\\n\")) # 2000\n",
    "\n",
    "arrM=[2 for i in range(n)]\n",
    "b=0\n",
    "for t in range(iterations):\n",
    "    for i in range(n):\n",
    "        arrM[i]=arrM[i]-(alpha*derivative_cost_wrt_mj(xtrain,ytrain,i,arrM,b))\n",
    "    b=b-(alpha*derivative_cost_wrt_b(xtrain,ytrain,arrM,b))\n"
   ]
  },
  {
   "cell_type": "code",
   "execution_count": null,
   "id": "562855f6",
   "metadata": {},
   "outputs": [],
   "source": [
    "xtest=np.loadtxt(\"combined_cycle_powerPlant_test.csv\",delimiter=\",\")\n",
    "# loading the testing data through numpy \n",
    "xtest=scaler.transform(xtest)\n",
    "\n",
    "# Prediction Part\n",
    "y_pred1=predict(xtest,arrM,b)\n",
    "y_pred2=predict(xtrain,arrM,b)\n"
   ]
  },
  {
   "cell_type": "code",
   "execution_count": null,
   "id": "429c3677",
   "metadata": {},
   "outputs": [],
   "source": [
    "y_pred1=np.array(y_pred1)\n",
    "y_pred2=np.array(y_pred2)\n",
    "\n",
    "y_pred1=np.round(y_pred1,2)\n",
    "y_pred2=np.round(y_pred2,2)"
   ]
  },
  {
   "cell_type": "code",
   "execution_count": null,
   "id": "07766fa1",
   "metadata": {},
   "outputs": [],
   "source": [
    "# Saving the results in csv file format\n",
    "np.savetxt(\"ccpp_result.csv\",y_pred1,delimiter=\",\")"
   ]
  },
  {
   "cell_type": "code",
   "execution_count": null,
   "id": "6de530b2",
   "metadata": {},
   "outputs": [],
   "source": [
    "y_pred2"
   ]
  },
  {
   "cell_type": "code",
   "execution_count": null,
   "id": "eda29704",
   "metadata": {},
   "outputs": [],
   "source": [
    "ytr=np.array(ytrain)"
   ]
  },
  {
   "cell_type": "code",
   "execution_count": null,
   "id": "3d1f6d48",
   "metadata": {},
   "outputs": [],
   "source": [
    "score=1-((np.sum((ytr-y_pred2)**2))/(np.sum((ytr-np.mean(ytr))**2)))"
   ]
  },
  {
   "cell_type": "code",
   "execution_count": null,
   "id": "fc07d505",
   "metadata": {},
   "outputs": [],
   "source": [
    "score"
   ]
  },
  {
   "cell_type": "code",
   "execution_count": null,
   "id": "b78fca15",
   "metadata": {},
   "outputs": [],
   "source": [
    "y_pred1"
   ]
  },
  {
   "cell_type": "code",
   "execution_count": null,
   "id": "1f41b1f4",
   "metadata": {},
   "outputs": [],
   "source": []
  },
  {
   "cell_type": "code",
   "execution_count": null,
   "id": "c5928221",
   "metadata": {},
   "outputs": [],
   "source": []
  }
 ],
 "metadata": {
  "kernelspec": {
   "display_name": "Python 3",
   "language": "python",
   "name": "python3"
  },
  "language_info": {
   "codemirror_mode": {
    "name": "ipython",
    "version": 3
   },
   "file_extension": ".py",
   "mimetype": "text/x-python",
   "name": "python",
   "nbconvert_exporter": "python",
   "pygments_lexer": "ipython3",
   "version": "3.11.0"
  }
 },
 "nbformat": 4,
 "nbformat_minor": 5
}
